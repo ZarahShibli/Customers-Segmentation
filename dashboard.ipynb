{
 "cells": [
  {
   "cell_type": "markdown",
   "metadata": {
    "id": "QjEYP4VMAJs_"
   },
   "source": [
    "\n",
    "# **Final Project**"
   ]
  },
  {
   "cell_type": "markdown",
   "metadata": {
    "id": "5qtYDGc6yJH4"
   },
   "source": [
    "\n",
    "Team members: \n",
    "\n",
    "* Mashael Alhassan\n",
    "* Lama Alzahrani\n",
    "* Wajd Alturki\n",
    "* Zarah Shibli\n",
    "\n",
    "\n"
   ]
  },
  {
   "cell_type": "markdown",
   "metadata": {
    "id": "BDcMnRNxAdE-"
   },
   "source": [
    "## **Domain knowledge**"
   ]
  },
  {
   "cell_type": "markdown",
   "metadata": {
    "id": "6uvKOsk3-cHE"
   },
   "source": [
    "\n",
    "\n",
    "<p align=\"center\">\n",
    "  <img src=\"\n",
    "https://drive.google.com/uc?export=view&id=1CFPAD1qpdSpGBaEjNc1eQXSqjzuiAD5f\">\n",
    "\n",
    "</p>\n",
    "\n",
    "**Mandoob Tuwaiq** is an app that provides delivery services. whether you want to send a gift to friends and family, or you want to increase your store customers and provide a delivery service for your product to them. Hence through the application, an integrated team of delivery drivers work to carry out the task of delivery in an easy and simple way.\n",
    "\n",
    "The aim of **Mandoob Tuwaiq** is to Increase drivers' income and provide a great delivery service for buyers and stores.\n",
    "\n"
   ]
  },
  {
   "cell_type": "markdown",
   "metadata": {
    "id": "mK1SumA1-sTb"
   },
   "source": [
    "**In this project, we focusing to help app founders to achieve their objectives by building a customer segmentation model. That's will help them to use different approaches for marketing.**\n",
    "<br> </br>\n",
    "\n",
    "We **thank** the founders of the application for giving us the opportunity to work on the data."
   ]
  },
  {
   "cell_type": "markdown",
   "metadata": {
    "id": "3lJSMLgMjFbE"
   },
   "source": [
    "# **Dash Installation**"
   ]
  },
  {
   "cell_type": "code",
   "execution_count": 1,
   "metadata": {
    "colab": {
     "base_uri": "https://localhost:8080/"
    },
    "id": "e4tgtNYqiR1K",
    "outputId": "9090ec57-e851-4db2-f065-33dbd08108da"
   },
   "outputs": [
    {
     "name": "stdout",
     "output_type": "stream",
     "text": [
      "Collecting jupyter-dash\n",
      "  Downloading https://files.pythonhosted.org/packages/46/21/d3893ad0b7a7061115938d6c38f5862522d45c4199fb7e8fde0765781e13/jupyter_dash-0.4.0-py3-none-any.whl\n",
      "Requirement already satisfied: flask in c:\\users\\zaraah\\anaconda3\\lib\\site-packages (from jupyter-dash) (1.1.1)\n",
      "Requirement already satisfied: ipython in c:\\users\\zaraah\\anaconda3\\lib\\site-packages (from jupyter-dash) (7.9.0)\n",
      "Requirement already satisfied: dash in c:\\users\\zaraah\\anaconda3\\lib\\site-packages (from jupyter-dash) (1.20.0)\n",
      "Collecting ansi2html\n",
      "  Downloading https://files.pythonhosted.org/packages/c6/85/3a46be84afbb16b392a138cd396117f438c7b2e91d8dc327621d1ae1b5dc/ansi2html-1.6.0-py3-none-any.whl\n",
      "Requirement already satisfied: ipykernel in c:\\users\\zaraah\\anaconda3\\lib\\site-packages (from jupyter-dash) (5.1.3)\n",
      "Requirement already satisfied: requests in c:\\users\\zaraah\\anaconda3\\lib\\site-packages (from jupyter-dash) (2.22.0)\n",
      "Requirement already satisfied: retrying in c:\\users\\zaraah\\anaconda3\\lib\\site-packages (from jupyter-dash) (1.3.3)\n",
      "Requirement already satisfied: click>=5.1 in c:\\users\\zaraah\\anaconda3\\lib\\site-packages (from flask->jupyter-dash) (7.0)\n",
      "Requirement already satisfied: itsdangerous>=0.24 in c:\\users\\zaraah\\anaconda3\\lib\\site-packages (from flask->jupyter-dash) (1.1.0)\n",
      "Requirement already satisfied: Jinja2>=2.10.1 in c:\\users\\zaraah\\anaconda3\\lib\\site-packages (from flask->jupyter-dash) (2.10.3)\n",
      "Requirement already satisfied: Werkzeug>=0.15 in c:\\users\\zaraah\\anaconda3\\lib\\site-packages (from flask->jupyter-dash) (0.16.0)\n",
      "Requirement already satisfied: setuptools>=18.5 in c:\\users\\zaraah\\anaconda3\\lib\\site-packages (from ipython->jupyter-dash) (41.6.0.post20191030)\n",
      "Requirement already satisfied: backcall in c:\\users\\zaraah\\anaconda3\\lib\\site-packages (from ipython->jupyter-dash) (0.1.0)\n",
      "Requirement already satisfied: jedi>=0.10 in c:\\users\\zaraah\\anaconda3\\lib\\site-packages (from ipython->jupyter-dash) (0.15.1)\n",
      "Requirement already satisfied: colorama; sys_platform == \"win32\" in c:\\users\\zaraah\\anaconda3\\lib\\site-packages (from ipython->jupyter-dash) (0.4.1)\n",
      "Requirement already satisfied: pygments in c:\\users\\zaraah\\anaconda3\\lib\\site-packages (from ipython->jupyter-dash) (2.4.2)\n",
      "Requirement already satisfied: prompt-toolkit<2.1.0,>=2.0.0 in c:\\users\\zaraah\\anaconda3\\lib\\site-packages (from ipython->jupyter-dash) (2.0.10)\n",
      "Requirement already satisfied: pickleshare in c:\\users\\zaraah\\anaconda3\\lib\\site-packages (from ipython->jupyter-dash) (0.7.5)\n",
      "Requirement already satisfied: decorator in c:\\users\\zaraah\\anaconda3\\lib\\site-packages (from ipython->jupyter-dash) (4.4.1)\n",
      "Requirement already satisfied: traitlets>=4.2 in c:\\users\\zaraah\\anaconda3\\lib\\site-packages (from ipython->jupyter-dash) (4.3.3)\n",
      "Requirement already satisfied: dash-core-components==1.16.0 in c:\\users\\zaraah\\anaconda3\\lib\\site-packages (from dash->jupyter-dash) (1.16.0)\n",
      "Requirement already satisfied: flask-compress in c:\\users\\zaraah\\anaconda3\\lib\\site-packages (from dash->jupyter-dash) (1.9.0)\n",
      "Requirement already satisfied: future in c:\\users\\zaraah\\anaconda3\\lib\\site-packages (from dash->jupyter-dash) (0.18.2)\n",
      "Requirement already satisfied: dash-renderer==1.9.1 in c:\\users\\zaraah\\anaconda3\\lib\\site-packages (from dash->jupyter-dash) (1.9.1)\n",
      "Requirement already satisfied: dash-table==4.11.3 in c:\\users\\zaraah\\anaconda3\\lib\\site-packages (from dash->jupyter-dash) (4.11.3)\n",
      "Requirement already satisfied: dash-html-components==1.1.3 in c:\\users\\zaraah\\anaconda3\\lib\\site-packages (from dash->jupyter-dash) (1.1.3)\n",
      "Requirement already satisfied: plotly in c:\\users\\zaraah\\anaconda3\\lib\\site-packages (from dash->jupyter-dash) (4.14.3)\n",
      "Requirement already satisfied: jupyter-client in c:\\users\\zaraah\\anaconda3\\lib\\site-packages (from ipykernel->jupyter-dash) (5.3.4)\n",
      "Requirement already satisfied: tornado>=4.2 in c:\\users\\zaraah\\anaconda3\\lib\\site-packages (from ipykernel->jupyter-dash) (6.0.3)\n",
      "Requirement already satisfied: idna<2.9,>=2.5 in c:\\users\\zaraah\\anaconda3\\lib\\site-packages (from requests->jupyter-dash) (2.8)\n",
      "Requirement already satisfied: urllib3!=1.25.0,!=1.25.1,<1.26,>=1.21.1 in c:\\users\\zaraah\\anaconda3\\lib\\site-packages (from requests->jupyter-dash) (1.24.2)\n",
      "Requirement already satisfied: chardet<3.1.0,>=3.0.2 in c:\\users\\zaraah\\anaconda3\\lib\\site-packages (from requests->jupyter-dash) (3.0.4)\n",
      "Requirement already satisfied: certifi>=2017.4.17 in c:\\users\\zaraah\\anaconda3\\lib\\site-packages (from requests->jupyter-dash) (2021.5.30)\n",
      "Requirement already satisfied: six>=1.7.0 in c:\\users\\zaraah\\anaconda3\\lib\\site-packages (from retrying->jupyter-dash) (1.13.0)\n",
      "Requirement already satisfied: MarkupSafe>=0.23 in c:\\users\\zaraah\\anaconda3\\lib\\site-packages (from Jinja2>=2.10.1->flask->jupyter-dash) (1.1.1)\n",
      "Requirement already satisfied: parso>=0.5.0 in c:\\users\\zaraah\\anaconda3\\lib\\site-packages (from jedi>=0.10->ipython->jupyter-dash) (0.5.1)\n",
      "Requirement already satisfied: wcwidth in c:\\users\\zaraah\\anaconda3\\lib\\site-packages (from prompt-toolkit<2.1.0,>=2.0.0->ipython->jupyter-dash) (0.1.7)\n",
      "Requirement already satisfied: ipython-genutils in c:\\users\\zaraah\\anaconda3\\lib\\site-packages (from traitlets>=4.2->ipython->jupyter-dash) (0.2.0)\n",
      "Requirement already satisfied: brotli in c:\\users\\zaraah\\anaconda3\\lib\\site-packages (from flask-compress->dash->jupyter-dash) (1.0.9)\n",
      "Requirement already satisfied: pywin32>=1.0; sys_platform == \"win32\" in c:\\users\\zaraah\\anaconda3\\lib\\site-packages (from jupyter-client->ipykernel->jupyter-dash) (223)\n",
      "Requirement already satisfied: pyzmq>=13 in c:\\users\\zaraah\\anaconda3\\lib\\site-packages (from jupyter-client->ipykernel->jupyter-dash) (18.1.0)\n",
      "Requirement already satisfied: python-dateutil>=2.1 in c:\\users\\zaraah\\anaconda3\\lib\\site-packages (from jupyter-client->ipykernel->jupyter-dash) (2.8.1)\n",
      "Requirement already satisfied: jupyter-core>=4.6.0 in c:\\users\\zaraah\\anaconda3\\lib\\site-packages (from jupyter-client->ipykernel->jupyter-dash) (4.6.1)\n",
      "Installing collected packages: ansi2html, jupyter-dash\n",
      "Successfully installed ansi2html-1.6.0 jupyter-dash-0.4.0\n",
      "Collecting matplotlib-venn\n",
      "  Downloading https://files.pythonhosted.org/packages/ca/e8/53441d7feb29ab10de3bd46c05358c41f0ba2f57395e88ffbb62d6b69df3/matplotlib-venn-0.11.6.tar.gz\n",
      "Requirement already satisfied: matplotlib in c:\\users\\zaraah\\anaconda3\\lib\\site-packages (from matplotlib-venn) (3.1.1)\n",
      "Requirement already satisfied: numpy in c:\\users\\zaraah\\anaconda3\\lib\\site-packages (from matplotlib-venn) (1.17.3)\n",
      "Requirement already satisfied: scipy in c:\\users\\zaraah\\anaconda3\\lib\\site-packages (from matplotlib-venn) (1.3.1)\n",
      "Requirement already satisfied: cycler>=0.10 in c:\\users\\zaraah\\anaconda3\\lib\\site-packages (from matplotlib->matplotlib-venn) (0.10.0)\n",
      "Requirement already satisfied: kiwisolver>=1.0.1 in c:\\users\\zaraah\\anaconda3\\lib\\site-packages (from matplotlib->matplotlib-venn) (1.1.0)\n",
      "Requirement already satisfied: pyparsing!=2.0.4,!=2.1.2,!=2.1.6,>=2.0.1 in c:\\users\\zaraah\\anaconda3\\lib\\site-packages (from matplotlib->matplotlib-venn) (2.4.4)\n",
      "Requirement already satisfied: python-dateutil>=2.1 in c:\\users\\zaraah\\anaconda3\\lib\\site-packages (from matplotlib->matplotlib-venn) (2.8.1)\n",
      "Requirement already satisfied: six in c:\\users\\zaraah\\anaconda3\\lib\\site-packages (from cycler>=0.10->matplotlib->matplotlib-venn) (1.13.0)\n",
      "Requirement already satisfied: setuptools in c:\\users\\zaraah\\anaconda3\\lib\\site-packages (from kiwisolver>=1.0.1->matplotlib->matplotlib-venn) (41.6.0.post20191030)\n",
      "Building wheels for collected packages: matplotlib-venn\n",
      "  Building wheel for matplotlib-venn (setup.py): started\n",
      "  Building wheel for matplotlib-venn (setup.py): finished with status 'done'\n",
      "  Created wheel for matplotlib-venn: filename=matplotlib_venn-0.11.6-cp37-none-any.whl size=32069 sha256=a30bbe3cc2c97d2728cc80b2f0cbe42c2c7495a830553a2ca83841ae6d0d9bbb\n",
      "  Stored in directory: C:\\Users\\Zaraah\\AppData\\Local\\pip\\Cache\\wheels\\c5\\9c\\ac\\77b0c9151c4c264bec6ba18120d73bb24df5b4c1f09c17a41c\n",
      "Successfully built matplotlib-venn\n",
      "Installing collected packages: matplotlib-venn\n",
      "Successfully installed matplotlib-venn-0.11.6\n"
     ]
    }
   ],
   "source": [
    "#pip install --upgrade dash dash-core-components dash-html-components dash-renderer\n",
    "#!apt-get -qq install -y libfluidsynth1\n",
    "#!pip install matplotlib-venn\n",
    "\n",
    "!pip install jupyter-dash\n",
    "!pip install matplotlib-venn"
   ]
  },
  {
   "cell_type": "code",
   "execution_count": 2,
   "metadata": {
    "colab": {
     "base_uri": "https://localhost:8080/"
    },
    "id": "XL0qetVsiQFK",
    "outputId": "06e5a58e-bdd8-42ab-acdb-109f4eda8594"
   },
   "outputs": [
    {
     "name": "stdout",
     "output_type": "stream",
     "text": [
      "Requirement already satisfied: dash in c:\\users\\zaraah\\anaconda3\\lib\\site-packages (1.20.0)\n",
      "Requirement already satisfied: future in c:\\users\\zaraah\\anaconda3\\lib\\site-packages (from dash) (0.18.2)\n",
      "Requirement already satisfied: dash-html-components==1.1.3 in c:\\users\\zaraah\\anaconda3\\lib\\site-packages (from dash) (1.1.3)\n",
      "Requirement already satisfied: flask-compress in c:\\users\\zaraah\\anaconda3\\lib\\site-packages (from dash) (1.9.0)\n",
      "Requirement already satisfied: dash-core-components==1.16.0 in c:\\users\\zaraah\\anaconda3\\lib\\site-packages (from dash) (1.16.0)\n",
      "Requirement already satisfied: dash-renderer==1.9.1 in c:\\users\\zaraah\\anaconda3\\lib\\site-packages (from dash) (1.9.1)\n",
      "Requirement already satisfied: plotly in c:\\users\\zaraah\\anaconda3\\lib\\site-packages (from dash) (4.14.3)\n",
      "Requirement already satisfied: Flask>=1.0.4 in c:\\users\\zaraah\\anaconda3\\lib\\site-packages (from dash) (1.1.1)\n",
      "Requirement already satisfied: dash-table==4.11.3 in c:\\users\\zaraah\\anaconda3\\lib\\site-packages (from dash) (4.11.3)\n",
      "Requirement already satisfied: brotli in c:\\users\\zaraah\\anaconda3\\lib\\site-packages (from flask-compress->dash) (1.0.9)\n",
      "Requirement already satisfied: six in c:\\users\\zaraah\\anaconda3\\lib\\site-packages (from plotly->dash) (1.13.0)\n",
      "Requirement already satisfied: retrying>=1.3.3 in c:\\users\\zaraah\\anaconda3\\lib\\site-packages (from plotly->dash) (1.3.3)\n",
      "Requirement already satisfied: itsdangerous>=0.24 in c:\\users\\zaraah\\anaconda3\\lib\\site-packages (from Flask>=1.0.4->dash) (1.1.0)\n",
      "Requirement already satisfied: Werkzeug>=0.15 in c:\\users\\zaraah\\anaconda3\\lib\\site-packages (from Flask>=1.0.4->dash) (0.16.0)\n",
      "Requirement already satisfied: click>=5.1 in c:\\users\\zaraah\\anaconda3\\lib\\site-packages (from Flask>=1.0.4->dash) (7.0)\n",
      "Requirement already satisfied: Jinja2>=2.10.1 in c:\\users\\zaraah\\anaconda3\\lib\\site-packages (from Flask>=1.0.4->dash) (2.10.3)\n",
      "Requirement already satisfied: MarkupSafe>=0.23 in c:\\users\\zaraah\\anaconda3\\lib\\site-packages (from Jinja2>=2.10.1->Flask>=1.0.4->dash) (1.1.1)\n",
      "Note: you may need to restart the kernel to use updated packages.\n"
     ]
    }
   ],
   "source": [
    "pip install dash"
   ]
  },
  {
   "cell_type": "code",
   "execution_count": 3,
   "metadata": {
    "colab": {
     "base_uri": "https://localhost:8080/"
    },
    "id": "bjQujrQc808U",
    "outputId": "9ecb5c61-2837-4a69-fa25-9c4ccf5876f8"
   },
   "outputs": [
    {
     "name": "stdout",
     "output_type": "stream",
     "text": [
      "Requirement already satisfied: pandas in c:\\users\\zaraah\\anaconda3\\lib\\site-packages (0.25.2)\n",
      "Requirement already satisfied: python-dateutil>=2.6.1 in c:\\users\\zaraah\\anaconda3\\lib\\site-packages (from pandas) (2.8.1)\n",
      "Requirement already satisfied: pytz>=2017.2 in c:\\users\\zaraah\\anaconda3\\lib\\site-packages (from pandas) (2019.3)\n",
      "Requirement already satisfied: numpy>=1.13.3 in c:\\users\\zaraah\\anaconda3\\lib\\site-packages (from pandas) (1.17.3)\n",
      "Requirement already satisfied: six>=1.5 in c:\\users\\zaraah\\anaconda3\\lib\\site-packages (from python-dateutil>=2.6.1->pandas) (1.13.0)\n",
      "Note: you may need to restart the kernel to use updated packages.\n"
     ]
    }
   ],
   "source": [
    "pip install pandas"
   ]
  },
  {
   "cell_type": "markdown",
   "metadata": {
    "id": "_8vKj3xOqYMx"
   },
   "source": [
    "## **Importing**"
   ]
  },
  {
   "cell_type": "code",
   "execution_count": 4,
   "metadata": {
    "id": "LuW_zknn8idL"
   },
   "outputs": [],
   "source": [
    "import pandas as pd\n",
    "import matplotlib.pyplot as plt\n",
    "import seaborn as sns\n",
    "import numpy as np \n",
    "\n",
    "# libraries for build dashboard\n",
    "import dash\n",
    "import dash_core_components as dcc\n",
    "import dash_html_components as html\n",
    "from dash.dependencies import Input, Output\n",
    "import plotly.express as px\n",
    "\n",
    "from jupyter_dash import JupyterDash\n",
    "\n",
    "# Set the plot style to a seaborn theme\n",
    "plt.style.use(\"seaborn\")\n",
    "sns.set_style('white')\n",
    "#sns.set_palette(\"YlGn_r\",4)"
   ]
  },
  {
   "cell_type": "markdown",
   "metadata": {
    "id": "5dJCJArS68d6"
   },
   "source": [
    "# **Loading Datasets**\n",
    "\n",
    "We creating dataFrame for each sheets from excel file for dataset with read data from drive csv file\n"
   ]
  },
  {
   "cell_type": "code",
   "execution_count": 5,
   "metadata": {
    "id": "hET0WNZs4fjB"
   },
   "outputs": [],
   "source": [
    "# read data from the drive csv file\n",
    "##### Choose Orders Sheet #####\n",
    "df = pd.read_excel(path, sheet_name='Orders')\n"
   ]
  },
  {
   "cell_type": "code",
   "execution_count": 7,
   "metadata": {
    "id": "0rbNTAFhHUqx"
   },
   "outputs": [],
   "source": [
    "# read data from the drive csv file\n",
    "##### Choose Users Sheet #####\n",
    "df_users = pd.read_excel(path, sheet_name='Users')\n"
   ]
  },
  {
   "cell_type": "code",
   "execution_count": 8,
   "metadata": {
    "id": "TOuGEp_tsumT"
   },
   "outputs": [],
   "source": [
    "# read data from the drive csv file\n",
    "##### Choose OrderPayment Sheet #####\n",
    "\n",
    "df_payment = pd.read_excel(path, sheet_name='OrderPayment')\n"
   ]
  },
  {
   "cell_type": "markdown",
   "metadata": {
    "id": "as-AaKwtjquT"
   },
   "source": [
    "### **Drop Values**\n",
    "Drop Values from 'UserType' column"
   ]
  },
  {
   "cell_type": "code",
   "execution_count": 9,
   "metadata": {
    "id": "BOJKzgQnY8yG"
   },
   "outputs": [],
   "source": [
    "df_users.drop(df_users.index[df_users['UserType'] == 0], inplace = True)"
   ]
  },
  {
   "cell_type": "code",
   "execution_count": 10,
   "metadata": {
    "colab": {
     "base_uri": "https://localhost:8080/"
    },
    "id": "ccP9l4T4iZTh",
    "outputId": "ad9eb64f-6da4-47a0-ff0d-8ce5cf4070dc"
   },
   "outputs": [
    {
     "name": "stderr",
     "output_type": "stream",
     "text": [
      "C:\\Users\\Zaraah\\Anaconda3\\lib\\site-packages\\ipykernel_launcher.py:2: SettingWithCopyWarning: \n",
      "A value is trying to be set on a copy of a slice from a DataFrame.\n",
      "Try using .loc[row_indexer,col_indexer] = value instead\n",
      "\n",
      "See the caveats in the documentation: http://pandas.pydata.org/pandas-docs/stable/user_guide/indexing.html#returning-a-view-versus-a-copy\n",
      "  \n",
      "C:\\Users\\Zaraah\\Anaconda3\\lib\\site-packages\\ipykernel_launcher.py:3: SettingWithCopyWarning: \n",
      "A value is trying to be set on a copy of a slice from a DataFrame.\n",
      "Try using .loc[row_indexer,col_indexer] = value instead\n",
      "\n",
      "See the caveats in the documentation: http://pandas.pydata.org/pandas-docs/stable/user_guide/indexing.html#returning-a-view-versus-a-copy\n",
      "  This is separate from the ipykernel package so we can avoid doing imports until\n",
      "C:\\Users\\Zaraah\\Anaconda3\\lib\\site-packages\\ipykernel_launcher.py:4: SettingWithCopyWarning: \n",
      "A value is trying to be set on a copy of a slice from a DataFrame.\n",
      "Try using .loc[row_indexer,col_indexer] = value instead\n",
      "\n",
      "See the caveats in the documentation: http://pandas.pydata.org/pandas-docs/stable/user_guide/indexing.html#returning-a-view-versus-a-copy\n",
      "  after removing the cwd from sys.path.\n",
      "C:\\Users\\Zaraah\\Anaconda3\\lib\\site-packages\\ipykernel_launcher.py:5: SettingWithCopyWarning: \n",
      "A value is trying to be set on a copy of a slice from a DataFrame.\n",
      "Try using .loc[row_indexer,col_indexer] = value instead\n",
      "\n",
      "See the caveats in the documentation: http://pandas.pydata.org/pandas-docs/stable/user_guide/indexing.html#returning-a-view-versus-a-copy\n",
      "  \"\"\"\n"
     ]
    }
   ],
   "source": [
    "complate_orders = df[(~ df['DeliveryDateTime'].isna())& (df['Status'] == 6)]\n",
    "complate_orders['hour'] = complate_orders['DeliveryDateTime'].dt.hour\n",
    "complate_orders['date'] = complate_orders['DeliveryDateTime'].dt.date\n",
    "complate_orders['day'] = complate_orders['DeliveryDateTime'].dt.day\n",
    "complate_orders['month'] = complate_orders['DeliveryDateTime'].dt.month"
   ]
  },
  {
   "cell_type": "markdown",
   "metadata": {
    "id": "kaOIteAueN0F"
   },
   "source": [
    "#### Loading cluster **dataset**"
   ]
  },
  {
   "cell_type": "code",
   "execution_count": 11,
   "metadata": {
    "colab": {
     "base_uri": "https://localhost:8080/",
     "height": 149
    },
    "id": "AZQ3yh38uCER",
    "outputId": "150011fc-552e-43e5-e5c3-012a4ac268d8"
   },
   "outputs": [
    {
     "data": {
      "text/html": [
       "<div>\n",
       "<style scoped>\n",
       "    .dataframe tbody tr th:only-of-type {\n",
       "        vertical-align: middle;\n",
       "    }\n",
       "\n",
       "    .dataframe tbody tr th {\n",
       "        vertical-align: top;\n",
       "    }\n",
       "\n",
       "    .dataframe thead th {\n",
       "        text-align: right;\n",
       "    }\n",
       "</style>\n",
       "<table border=\"1\" class=\"dataframe\">\n",
       "  <thead>\n",
       "    <tr style=\"text-align: right;\">\n",
       "      <th></th>\n",
       "      <th>OtherUserId</th>\n",
       "      <th>Number_of_Orders</th>\n",
       "      <th>Total_Payment</th>\n",
       "      <th>Cash</th>\n",
       "      <th>Card</th>\n",
       "      <th>STC_Pay</th>\n",
       "      <th>Common_ProdcutCat_Count</th>\n",
       "      <th>Common_ProdcutCat</th>\n",
       "      <th>pred_cluster</th>\n",
       "      <th>pred_cluster_DBSCAN</th>\n",
       "    </tr>\n",
       "  </thead>\n",
       "  <tbody>\n",
       "    <tr>\n",
       "      <th>0</th>\n",
       "      <td>8</td>\n",
       "      <td>32.0</td>\n",
       "      <td>360.0</td>\n",
       "      <td>15.0</td>\n",
       "      <td>1.0</td>\n",
       "      <td>0.0</td>\n",
       "      <td>3</td>\n",
       "      <td>{'Gift and flowers', 'Food', 'Other'}</td>\n",
       "      <td>3</td>\n",
       "      <td>-1</td>\n",
       "    </tr>\n",
       "    <tr>\n",
       "      <th>1</th>\n",
       "      <td>14</td>\n",
       "      <td>1.0</td>\n",
       "      <td>0.0</td>\n",
       "      <td>0.0</td>\n",
       "      <td>0.0</td>\n",
       "      <td>0.0</td>\n",
       "      <td>1</td>\n",
       "      <td>{'Food'}</td>\n",
       "      <td>0</td>\n",
       "      <td>0</td>\n",
       "    </tr>\n",
       "  </tbody>\n",
       "</table>\n",
       "</div>"
      ],
      "text/plain": [
       "   OtherUserId  Number_of_Orders  Total_Payment  Cash  Card  STC_Pay  \\\n",
       "0            8              32.0          360.0  15.0   1.0      0.0   \n",
       "1           14               1.0            0.0   0.0   0.0      0.0   \n",
       "\n",
       "   Common_ProdcutCat_Count                      Common_ProdcutCat  \\\n",
       "0                        3  {'Gift and flowers', 'Food', 'Other'}   \n",
       "1                        1                               {'Food'}   \n",
       "\n",
       "   pred_cluster  pred_cluster_DBSCAN  \n",
       "0             3                   -1  \n",
       "1             0                    0  "
      ]
     },
     "execution_count": 11,
     "metadata": {},
     "output_type": "execute_result"
    }
   ],
   "source": [
    "\n",
    "df_customer = pd.read_csv(path_)\n",
    "df_customer.head(2)"
   ]
  },
  {
   "cell_type": "markdown",
   "metadata": {
    "id": "sKiLCDhqd9HW"
   },
   "source": [
    "\n",
    "# **Merge data**"
   ]
  },
  {
   "cell_type": "code",
   "execution_count": 12,
   "metadata": {
    "id": "AMtvrnxJ8Vft"
   },
   "outputs": [],
   "source": [
    "# rename the order id in the tow sheets order and payment ( the confirmed order only here)\n",
    "\n",
    "df = df.rename(columns={\"Code\":\"MandoubakOrder_Id\"})\n",
    "df_all = df.merge(df_payment, on='MandoubakOrder_Id')\n"
   ]
  },
  {
   "cell_type": "markdown",
   "metadata": {
    "id": "_0sbu1P86SZ3"
   },
   "source": [
    "## **Preprocessing data**"
   ]
  },
  {
   "cell_type": "markdown",
   "metadata": {
    "id": "G7gsjDYX8eV5"
   },
   "source": [
    "### **Check missing value :**"
   ]
  },
  {
   "cell_type": "code",
   "execution_count": 13,
   "metadata": {
    "colab": {
     "base_uri": "https://localhost:8080/"
    },
    "id": "8UCFR7UR8nho",
    "outputId": "d3e4d540-ff4e-4925-f399-3cd5f84a831c"
   },
   "outputs": [
    {
     "data": {
      "text/plain": [
       "Id                         0\n",
       "MandoubakOrder_Id          0\n",
       "ReceivingLocationId      804\n",
       "DeliveryLocationId        17\n",
       "ReceivingDateTime        804\n",
       "DeliveryDateTime          17\n",
       "ProductDescription         1\n",
       "ProductCategories          0\n",
       "ProductPrice               0\n",
       "Distance                   0\n",
       "Duration                   0\n",
       "DeliveryCost               0\n",
       "Status                     0\n",
       "DriverId                 968\n",
       "CreatedDate                0\n",
       "CreatedBy                  0\n",
       "PaymentByMe                0\n",
       "IsOrderAccepted            0\n",
       "IsPaid                     0\n",
       "OtherUserId                0\n",
       "CollectedAmount            0\n",
       "DriverCommissions          0\n",
       "AppCommissions             0\n",
       "RetailCollectedAmount      0\n",
       "RegularDuration            0\n",
       "DurationInTraffic          0\n",
       "dtype: int64"
      ]
     },
     "execution_count": 13,
     "metadata": {},
     "output_type": "execute_result"
    }
   ],
   "source": [
    "# missing values in data\n",
    "df.isna().sum()"
   ]
  },
  {
   "cell_type": "code",
   "execution_count": 14,
   "metadata": {
    "colab": {
     "base_uri": "https://localhost:8080/"
    },
    "id": "BZVwugJJHPqS",
    "outputId": "6df9d196-f3f0-45d2-d9a2-c845baa83121"
   },
   "outputs": [
    {
     "data": {
      "text/plain": [
       "Id                                int64\n",
       "MandoubakOrder_Id                 int64\n",
       "ReceivingLocationId             float64\n",
       "DeliveryLocationId              float64\n",
       "ReceivingDateTime        datetime64[ns]\n",
       "DeliveryDateTime         datetime64[ns]\n",
       "ProductDescription               object\n",
       "ProductCategories                object\n",
       "ProductPrice                      int64\n",
       "Distance                          int64\n",
       "Duration                          int64\n",
       "DeliveryCost                      int64\n",
       "Status                            int64\n",
       "DriverId                        float64\n",
       "CreatedDate              datetime64[ns]\n",
       "CreatedBy                         int64\n",
       "PaymentByMe                       int64\n",
       "IsOrderAccepted                   int64\n",
       "IsPaid                            int64\n",
       "OtherUserId                       int64\n",
       "CollectedAmount                   int64\n",
       "DriverCommissions                 int64\n",
       "AppCommissions                    int64\n",
       "RetailCollectedAmount             int64\n",
       "RegularDuration                   int64\n",
       "DurationInTraffic                 int64\n",
       "dtype: object"
      ]
     },
     "execution_count": 14,
     "metadata": {},
     "output_type": "execute_result"
    }
   ],
   "source": [
    "# data type for each column\n",
    "df.dtypes"
   ]
  },
  {
   "cell_type": "markdown",
   "metadata": {
    "id": "OrtQwlHOGyQn"
   },
   "source": [
    "### Fill missing values"
   ]
  },
  {
   "cell_type": "code",
   "execution_count": 15,
   "metadata": {
    "id": "TM4LULPeGQ_s"
   },
   "outputs": [],
   "source": [
    "# DeliveryLocationId and ReceivingLocationId\n",
    "# 0 mean the loaction is empty \n",
    "df.DeliveryLocationId = df.DeliveryLocationId.fillna(0)\n",
    "df.ReceivingLocationId = df.ReceivingLocationId.fillna(0)\n",
    "\n",
    "# DeliveryDateTime and ReceivingDateTime \n",
    "# N/A mean DateTime not availble \n",
    "df.ReceivingDateTime = df.ReceivingDateTime.fillna('N/A')\n",
    "df.DeliveryDateTime = df.DeliveryDateTime.fillna('N/A')\n",
    "\n",
    "# DriverId\n",
    "# 0 mean there isn't assigned Driver for this order\n",
    "df.DriverId = df.DriverId.fillna(0)\n",
    "\n",
    "# ProductDescription\n",
    "df.ProductDescription = df.ProductDescription.fillna('Other')\n"
   ]
  },
  {
   "cell_type": "code",
   "execution_count": 16,
   "metadata": {
    "colab": {
     "base_uri": "https://localhost:8080/"
    },
    "id": "IEfi-wkPLbVx",
    "outputId": "b478a12e-de9b-4e55-943a-3f8a672120b0"
   },
   "outputs": [
    {
     "data": {
      "text/plain": [
       "Id                       0\n",
       "MandoubakOrder_Id        0\n",
       "ReceivingLocationId      0\n",
       "DeliveryLocationId       0\n",
       "ReceivingDateTime        0\n",
       "DeliveryDateTime         0\n",
       "ProductDescription       0\n",
       "ProductCategories        0\n",
       "ProductPrice             0\n",
       "Distance                 0\n",
       "Duration                 0\n",
       "DeliveryCost             0\n",
       "Status                   0\n",
       "DriverId                 0\n",
       "CreatedDate              0\n",
       "CreatedBy                0\n",
       "PaymentByMe              0\n",
       "IsOrderAccepted          0\n",
       "IsPaid                   0\n",
       "OtherUserId              0\n",
       "CollectedAmount          0\n",
       "DriverCommissions        0\n",
       "AppCommissions           0\n",
       "RetailCollectedAmount    0\n",
       "RegularDuration          0\n",
       "DurationInTraffic        0\n",
       "dtype: int64"
      ]
     },
     "execution_count": 16,
     "metadata": {},
     "output_type": "execute_result"
    }
   ],
   "source": [
    "df.isnull().sum()"
   ]
  },
  {
   "cell_type": "markdown",
   "metadata": {
    "id": "MaJIAbbH6ZGO"
   },
   "source": [
    "### Add new column for **Product Categorie**"
   ]
  },
  {
   "cell_type": "code",
   "execution_count": 17,
   "metadata": {
    "colab": {
     "base_uri": "https://localhost:8080/"
    },
    "id": "ptCQyRY3HJei",
    "outputId": "dfd71cac-08d5-49da-bf19-78b57f1bc563"
   },
   "outputs": [
    {
     "data": {
      "text/plain": [
       "Food                1081\n",
       "Other                551\n",
       "Gift and flowers     443\n",
       "Accessories          216\n",
       "Beauty and care      181\n",
       "Clothes              132\n",
       "Name: ProductCategories, dtype: int64"
      ]
     },
     "execution_count": 17,
     "metadata": {},
     "output_type": "execute_result"
    }
   ],
   "source": [
    "# Product Cat\n",
    "# Gift and flowers, Food, Clothes, Accessories, Beauty and care, Other\n",
    "df.ProductCategories.value_counts()"
   ]
  },
  {
   "cell_type": "markdown",
   "metadata": {
    "id": "kxJ0fj3nj8F3"
   },
   "source": [
    "## **Converting columns from int To string,**\n",
    " ## **and changes variable**"
   ]
  },
  {
   "cell_type": "markdown",
   "metadata": {
    "id": "0wlnJTHe-emy"
   },
   "source": [
    "Convert 'AccountActive' columns To string, and changes Values"
   ]
  },
  {
   "cell_type": "code",
   "execution_count": 18,
   "metadata": {
    "id": "romYK_5P98Kb"
   },
   "outputs": [],
   "source": [
    "# Convert columns To string\n",
    "df_users.AccountActive = df_users.AccountActive.astype(str)\n",
    "\n",
    "# changes Values\n",
    "df_users.AccountActive = df_users.AccountActive.replace({'-1': \"Active Account\"})\n",
    "df_users.AccountActive = df_users.AccountActive.replace({'0': \"inactive Account \"}) \n"
   ]
  },
  {
   "cell_type": "markdown",
   "metadata": {
    "id": "L6ZnQ8fq7fBk"
   },
   "source": [
    "Convert UserType columns To string, and changes Values"
   ]
  },
  {
   "cell_type": "code",
   "execution_count": 19,
   "metadata": {
    "id": "-D7YzWAZ87hJ"
   },
   "outputs": [],
   "source": [
    "# Convert columns To string\n",
    "df_users.UserType =df_users.UserType.astype(str)\n",
    "\n",
    "# changes Values\n",
    "df_users.UserType = df_users.UserType.replace({'1': \"Store\"})\n",
    "df_users.UserType = df_users.UserType.replace({'2': \"Buyer\"}) \n",
    "df_users.UserType = df_users.UserType.replace({'3': \"Driver\"})\n"
   ]
  },
  {
   "cell_type": "markdown",
   "metadata": {
    "id": "LPhcnxl8woSh"
   },
   "source": [
    "Convert Cluster to string"
   ]
  },
  {
   "cell_type": "code",
   "execution_count": 20,
   "metadata": {
    "id": "DEdlzx2SpS05"
   },
   "outputs": [],
   "source": [
    "df_customer.pred_cluster_DBSCAN =df_customer.pred_cluster_DBSCAN.astype(str)\n",
    "df_customer.pred_cluster_DBSCAN =df_customer.pred_cluster_DBSCAN.replace({'-1': \"cluster 1\"})\n",
    "df_customer.pred_cluster_DBSCAN =df_customer.pred_cluster_DBSCAN.replace({'0': \"cluster 2\"})\n",
    "df_customer.pred_cluster_DBSCAN =df_customer.pred_cluster_DBSCAN.replace({'1': \"cluster 3\"})\n",
    "df_customer.pred_cluster_DBSCAN =df_customer.pred_cluster_DBSCAN.replace({'2': \"cluster 4\"})\n",
    "df_customer.pred_cluster_DBSCAN =df_customer.pred_cluster_DBSCAN.replace({'3': \"cluster 5\"})\n"
   ]
  },
  {
   "cell_type": "markdown",
   "metadata": {
    "id": "tVA0l6xH8tHj"
   },
   "source": [
    "Convert 'Status' columns to string, changes Values\n"
   ]
  },
  {
   "cell_type": "code",
   "execution_count": 21,
   "metadata": {
    "id": "BqMeBZD-8_XE"
   },
   "outputs": [],
   "source": [
    "# Convert columns To string\n",
    "df.Status =df.Status.astype(str)\n",
    "# changes Values\n",
    "df.Status = df.Status.replace({'1': \"New\"})\n",
    "df.Status = df.Status.replace({'2': \"confirmed\"}) \n",
    "df.Status = df.Status.replace({'3': \"Reserved\"}) \n",
    "df.Status = df.Status.replace({'4': \"Delivering\"}) \n",
    "df.Status = df.Status.replace({'6': \"Confirmed_Delivery \"}) \n",
    "df.Status = df.Status.replace({'7': \"Cancelled\"}) \n",
    "df.Status = df.Status.replace({'8': \" Closed\"}) \n",
    "df.Status= df.Status.replace({'10': \"Expired\"}) \n"
   ]
  },
  {
   "cell_type": "markdown",
   "metadata": {
    "id": "5RsxbhuqVA-a"
   },
   "source": [
    "Rename Id colum in df User"
   ]
  },
  {
   "cell_type": "code",
   "execution_count": 28,
   "metadata": {
    "colab": {
     "base_uri": "https://localhost:8080/",
     "height": 422
    },
    "id": "eQ8C2_G6UO5a",
    "outputId": "89c43e57-9871-464c-c1d4-a0777c35bb93"
   },
   "outputs": [
    {
     "data": {
      "text/html": [
       "<div>\n",
       "<style scoped>\n",
       "    .dataframe tbody tr th:only-of-type {\n",
       "        vertical-align: middle;\n",
       "    }\n",
       "\n",
       "    .dataframe tbody tr th {\n",
       "        vertical-align: top;\n",
       "    }\n",
       "\n",
       "    .dataframe thead th {\n",
       "        text-align: right;\n",
       "    }\n",
       "</style>\n",
       "<table border=\"1\" class=\"dataframe\">\n",
       "  <thead>\n",
       "    <tr style=\"text-align: right;\">\n",
       "      <th></th>\n",
       "      <th>UserId</th>\n",
       "      <th>AccountActive</th>\n",
       "      <th>UserActive</th>\n",
       "      <th>UserType</th>\n",
       "      <th>CreatedDate</th>\n",
       "      <th>FinancialAccount</th>\n",
       "      <th>IsUnderReviewed</th>\n",
       "      <th>IsDeleted</th>\n",
       "      <th>STCPay</th>\n",
       "      <th>Registration_Month</th>\n",
       "      <th>Registration_Day</th>\n",
       "      <th>Registration_Year</th>\n",
       "    </tr>\n",
       "  </thead>\n",
       "  <tbody>\n",
       "    <tr>\n",
       "      <th>0</th>\n",
       "      <td>1</td>\n",
       "      <td>Active Account</td>\n",
       "      <td>-1</td>\n",
       "      <td>Driver</td>\n",
       "      <td>2021-01-10 15:42:54.933</td>\n",
       "      <td>729.0</td>\n",
       "      <td>0</td>\n",
       "      <td>0</td>\n",
       "      <td>-1</td>\n",
       "      <td>1</td>\n",
       "      <td>10</td>\n",
       "      <td>2021</td>\n",
       "    </tr>\n",
       "    <tr>\n",
       "      <th>1</th>\n",
       "      <td>2</td>\n",
       "      <td>Active Account</td>\n",
       "      <td>-1</td>\n",
       "      <td>Buyer</td>\n",
       "      <td>2021-01-10 20:32:31.093</td>\n",
       "      <td>0.0</td>\n",
       "      <td>0</td>\n",
       "      <td>0</td>\n",
       "      <td>0</td>\n",
       "      <td>1</td>\n",
       "      <td>10</td>\n",
       "      <td>2021</td>\n",
       "    </tr>\n",
       "  </tbody>\n",
       "</table>\n",
       "</div>"
      ],
      "text/plain": [
       "   UserId   AccountActive  UserActive UserType             CreatedDate  \\\n",
       "0       1  Active Account          -1   Driver 2021-01-10 15:42:54.933   \n",
       "1       2  Active Account          -1    Buyer 2021-01-10 20:32:31.093   \n",
       "\n",
       "   FinancialAccount  IsUnderReviewed  IsDeleted  STCPay  Registration_Month  \\\n",
       "0             729.0                0          0      -1                   1   \n",
       "1               0.0                0          0       0                   1   \n",
       "\n",
       "   Registration_Day  Registration_Year  \n",
       "0                10               2021  \n",
       "1                10               2021  "
      ]
     },
     "execution_count": 28,
     "metadata": {},
     "output_type": "execute_result"
    }
   ],
   "source": [
    "df_users = df_users.rename(columns={'Id': 'UserId'})\n",
    "df_users.head(2)"
   ]
  },
  {
   "cell_type": "markdown",
   "metadata": {
    "id": "6AjnM1hAx0w0"
   },
   "source": [
    "### Count registred Users per month"
   ]
  },
  {
   "cell_type": "code",
   "execution_count": 23,
   "metadata": {
    "id": "25herSImiVxN"
   },
   "outputs": [],
   "source": [
    "df_users['Registration_Month'] = [i for i in df_users.CreatedDate.dt.month]\n",
    "df_users['Registration_Day'] = [i for i in df_users.CreatedDate.dt.day]\n",
    "df_users['Registration_Year'] = [i for i in df_users.CreatedDate.dt.year]"
   ]
  },
  {
   "cell_type": "markdown",
   "metadata": {
    "id": "SYzEAn_59wBq"
   },
   "source": [
    "# **Dashboard**\n",
    "\n",
    "-Visual at least 6 plots show insights from data (either static or interactive) \n",
    "Note: If we just create 6 plots, all of them should be related  to the target.\n",
    "\n",
    "-Think about important insights related to users (buyers and stores), and can add insights related to orders if we plot more than 6 plots.\n",
    "\n",
    "-Determine which tools will be use for build dashboard\n",
    "\n",
    "-Make sure to use different types of plot (scatter, bar, count, hist, line, pie …)\n",
    "\n",
    "-Write a short description about each plot. These plots should answer the business questions. \n"
   ]
  },
  {
   "cell_type": "code",
   "execution_count": 24,
   "metadata": {
    "colab": {
     "base_uri": "https://localhost:8080/"
    },
    "id": "C_EPktgRin4Z",
    "outputId": "4ba0ec88-0803-4ceb-ef11-69eaca646c26"
   },
   "outputs": [
    {
     "name": "stdout",
     "output_type": "stream",
     "text": [
      "Requirement already satisfied: matplotlib-venn in c:\\users\\zaraah\\anaconda3\\lib\\site-packages (0.11.6)\n",
      "Requirement already satisfied: scipy in c:\\users\\zaraah\\anaconda3\\lib\\site-packages (from matplotlib-venn) (1.3.1)\n",
      "Requirement already satisfied: matplotlib in c:\\users\\zaraah\\anaconda3\\lib\\site-packages (from matplotlib-venn) (3.1.1)\n",
      "Requirement already satisfied: numpy in c:\\users\\zaraah\\anaconda3\\lib\\site-packages (from matplotlib-venn) (1.17.3)\n",
      "Requirement already satisfied: cycler>=0.10 in c:\\users\\zaraah\\anaconda3\\lib\\site-packages (from matplotlib->matplotlib-venn) (0.10.0)\n",
      "Requirement already satisfied: kiwisolver>=1.0.1 in c:\\users\\zaraah\\anaconda3\\lib\\site-packages (from matplotlib->matplotlib-venn) (1.1.0)\n",
      "Requirement already satisfied: pyparsing!=2.0.4,!=2.1.2,!=2.1.6,>=2.0.1 in c:\\users\\zaraah\\anaconda3\\lib\\site-packages (from matplotlib->matplotlib-venn) (2.4.4)\n",
      "Requirement already satisfied: python-dateutil>=2.1 in c:\\users\\zaraah\\anaconda3\\lib\\site-packages (from matplotlib->matplotlib-venn) (2.8.1)\n",
      "Requirement already satisfied: six in c:\\users\\zaraah\\anaconda3\\lib\\site-packages (from cycler>=0.10->matplotlib->matplotlib-venn) (1.13.0)\n",
      "Requirement already satisfied: setuptools in c:\\users\\zaraah\\anaconda3\\lib\\site-packages (from kiwisolver>=1.0.1->matplotlib->matplotlib-venn) (41.6.0.post20191030)\n"
     ]
    }
   ],
   "source": [
    "!pip install matplotlib-venn"
   ]
  },
  {
   "cell_type": "code",
   "execution_count": 25,
   "metadata": {
    "id": "zpkVtwWbFL-_"
   },
   "outputs": [],
   "source": [
    "import dash\n",
    "import dash_core_components as dcc\n",
    "import dash_html_components as html\n",
    "import pandas as pd\n",
    "import plotly.graph_objs as go\n",
    "import random\n",
    "sns.set_palette(\"PuBuGn_r\",4) # Choose Color"
   ]
  },
  {
   "cell_type": "markdown",
   "metadata": {
    "id": "vfH17OU_ygcJ"
   },
   "source": [
    "# The **dashboard**"
   ]
  },
  {
   "cell_type": "code",
   "execution_count": 27,
   "metadata": {
    "colab": {
     "base_uri": "https://localhost:8080/",
     "height": 671
    },
    "id": "p8NYsaauJ4tR",
    "outputId": "c425fd99-1386-4188-f4ca-b9b4eeec6fc7"
   },
   "outputs": [
    {
     "data": {
      "text/html": [
       "\n",
       "        <iframe\n",
       "            width=\"100%\"\n",
       "            height=\"650\"\n",
       "            src=\"http://127.0.0.1:8050/\"\n",
       "            frameborder=\"0\"\n",
       "            allowfullscreen\n",
       "        ></iframe>\n",
       "        "
      ],
      "text/plain": [
       "<IPython.lib.display.IFrame at 0x89ad0acc48>"
      ]
     },
     "metadata": {},
     "output_type": "display_data"
    }
   ],
   "source": [
    "# Instatiate the App\n",
    "\n",
    "app = JupyterDash(__name__ )\n",
    "\n",
    "# Create layout that will hold all visuals \n",
    "app.layout = html.Div([\n",
    "    html.H1(\n",
    "        'Mandoob Tuwaiq app', \n",
    "        style={'color':'#FFFFFF','background-color': '#148F77','text-align':'center','padding':10}\n",
    "        ), # Change colors and style\n",
    "\n",
    "    ########################### \n",
    "################ Input 1\n",
    "            html.Div([   \n",
    "              html.Label([\n",
    "                \"Choose Product Category \", # Label title\n",
    "                # create Dropdown list\n",
    "                dcc.Dropdown( \n",
    "                    id = 'ProductCategories', # Dropdown id\n",
    "                    clearable = False,\n",
    "                    value = \"Food\", # default value\n",
    "                    style={'color': '#0B5345'},\n",
    "                    # return the unique values from ProductCategories column\n",
    "                    options = [{\"label\":x, \"value\":x} for x in \tdf.ProductCategories.unique()] \n",
    "                    )\n",
    "                ],\n",
    "                style={'fontSize':18}), # change the options size\n",
    "              \n",
    "              # create a graph\n",
    "              dcc.Graph(id='graph1'), \n",
    "                  \n",
    "          ],\n",
    "\n",
    "          # add style for the div\n",
    "          style={'width': '47%', 'float': 'left', 'display': 'inline-block',\n",
    "                   'background-color': '#F3F3F3','margin-right':1,'padding':10,'margin-top':1}),\n",
    "\n",
    "\n",
    "      ###########################\n",
    "      ############ Input 2 \n",
    "\n",
    "            html.Div([   \n",
    "              html.Label([ ## Create Sliider\n",
    "                \"Month\",\n",
    "                dcc.Slider(\n",
    "                    id='Registration_Month',\n",
    "                    min=1,\n",
    "                    max=6,\n",
    "                    value=2,\n",
    "            #style='color': '#67001F',\n",
    "                    marks={ # Changes Monthe from int to text\n",
    "                    1: {\"label\": \"Jan\"},\n",
    "                    2: {\"label\": \"Feb\"},\n",
    "                    3: {\"label\": \"March\"},\n",
    "                    4: {\"label\": \"April\"},\n",
    "                    5: {\"label\": \"May\"},\n",
    "                    6: {\"label\": \"Jun\"},\n",
    "                                          }\n",
    "                                           ),\n",
    "                                              ]),\n",
    "                                               html.Br([]), \n",
    "                #style={'fontSize':18}, # change the options size\n",
    "              \n",
    "              # create a graph\n",
    "              dcc.Graph(id='graph2'), \n",
    "                  \n",
    "          ],\n",
    "\n",
    "          # add style for the div\n",
    "          style={'width': '47%', 'float': 'right', 'display': 'inline-block',\n",
    "                   'background-color': '#F3F3F3','margin-left':1,'padding':10,'margin-top':1}),\n",
    "\n",
    "        \n",
    "        ###########################\n",
    "        ########### Input 3\n",
    "                                    \n",
    "            html.Div([   \n",
    "              html.Label([\n",
    "                \"Chose Cluster from DBSCAN\", # Label title\n",
    "                # create Dropdown list\n",
    "                dcc.RadioItems( \n",
    "                    id = 'pred_cluster_DBSCAN', # Dropdown id\n",
    "                    value = \"cluster 2\", # default value\n",
    "                    style={'color': '#000000'},\n",
    "                    # return the unique values from brand_name column\n",
    "                    options = [{\"label\":x, \"value\":x} for x in df_customer.pred_cluster_DBSCAN.unique()] \n",
    "                    )\n",
    "                ],\n",
    "                style={'fontSize':18}), # change the options size\n",
    "                            \n",
    "              # create a graph\n",
    "              dcc.Graph(id='graph3'), \n",
    "                  \n",
    "          ],\n",
    "\n",
    "          # add style for the div\n",
    "          style={'width': '47%', 'float': 'left', 'display': 'inline-block',\n",
    "                   'background-color': '#F3F3F3','margin-right':1,'padding':10,'margin-top':1}),\n",
    "\n",
    "       ###########################\n",
    "        ########## Input 4\n",
    "\n",
    "                    html.Div([   \n",
    "              html.Label([\n",
    "                \"Chose Cluster from k-mean\", # Label title\n",
    "                # create Dropdown list\n",
    "                dcc.Dropdown( \n",
    "                    id = 'pred_cluster', # Dropdown id\n",
    "                    clearable = False,\n",
    "                    value = 3, # default value\n",
    "                    style={'color': '#0B5345'},\n",
    "                    # return the unique values from ProductCategories column\n",
    "                    options = [{\"label\":x, \"value\":x} for x in \tdf_customer.pred_cluster.unique()] \n",
    "                    )\n",
    "                ],\n",
    "                style={'fontSize':18}), # change the options size\n",
    "              \n",
    "              # create a graph\n",
    "              dcc.Graph(id='graph4'), \n",
    "                  \n",
    "          ],\n",
    "\n",
    "          # add style for the div\n",
    "          style={'width': '47%', 'float': 'left', 'display': 'inline-block',\n",
    "                   'background-color': '#F3F3F3','margin-right':1,'padding':10,'margin-top':1}),\n",
    "\n",
    "\n",
    "       ###########################\n",
    "        ########## Input 5\n",
    "           html.Div([   \n",
    "              html.Label([\n",
    "                \"Who's Uesre?\", # Label title\n",
    "                # create Dropdown list\n",
    "                dcc.RadioItems( \n",
    "                    id = 'UserType', # Dropdown id\n",
    "                    value = \"Store\", # default value\n",
    "                    style={'color': '#000000'},\n",
    "                    # return the unique values from brand_name column\n",
    "                    options = [{\"label\":x, \"value\":x} for x in df_users.UserType.unique()] \n",
    "                    )\n",
    "                ],\n",
    "                style={'fontSize':18}), # change the options size\n",
    "              \n",
    "                #style={'fontSize':18}, # change the options size\n",
    "              \n",
    "              # create a graph\n",
    "              dcc.Graph(id='graph5'), \n",
    "                  \n",
    "          ],\n",
    "\n",
    "          # add style for the div\n",
    "          style={'width': '47%', 'float': 'left', 'display': 'inline-block',\n",
    "                   'background-color': '#F3F3F3','margin-right':1,'padding':10,'margin-top':1}),\n",
    "\n",
    "    ########################### \n",
    "    ###### Input 6 \n",
    "      html.Div([  \n",
    "                          \n",
    "          # Create slider \n",
    "            html.Label([\n",
    "                \"OrdersMonth\",\n",
    "                dcc.Slider(\n",
    "                    id='orders_month',\n",
    "                    min=2,\n",
    "                    max=6,\n",
    "                    value=3,\n",
    "                    marks={ # Changes Monthe from int to text\n",
    "                        2: {\"label\": \"Feb\"},\n",
    "                        3: {\"label\": \"March\"},\n",
    "                        4: {\"label\": \"April\"},\n",
    "                        5: {\"label\": \"May\"},\n",
    "                        6: {\"label\": \"Jun\"},\n",
    "                    }\n",
    "                ),\n",
    "            ]),\n",
    "            html.Br([]),               \n",
    "              # create a graph\n",
    "              dcc.Graph(id='graph6'), \n",
    "                          \n",
    "            ],\n",
    "\n",
    "            # add style for the div\n",
    "            style={'width': '47%', 'float': 'righ', 'display': 'inline-block',\n",
    "                          'background-color': '#F3F3F3','margin-left':1,'padding':10,'margin-top':1}),\n",
    "\n",
    "\n",
    "      ])\n",
    "\n",
    "\n",
    "###########################\n",
    "###### 1st plot Call Back\n",
    "@app.callback(\n",
    "    Output('graph1','figure'),\n",
    "    Input('ProductCategories','value')\n",
    ")\n",
    " \n",
    "def update_figures(ProductCategories):\n",
    "  # filter data by category\n",
    "  test = df_all[df_all['ProductCategories']== ProductCategories]\n",
    "  \n",
    "\n",
    "  # create Pie plot for PaymentMode shows anothers Payment methods \n",
    "  fig = px.pie(test, test['PaymentMode'],color_discrete_sequence=px.colors.sequential.PuBuGn_r)\n",
    "  fig.update_layout(title_text='Most Payment Methods') # add title\n",
    "  \n",
    "  # transparent background\n",
    "  fig.update_layout({\n",
    "    'plot_bgcolor': 'rgba(0, 0, 0, 0)', # change plot background color\n",
    "    'paper_bgcolor': 'rgba(0, 0, 0, 0)',  # change paper background color\n",
    "\n",
    "    'title_font_color': '#0B5345', # change the plot title color\n",
    "    })\n",
    "  \n",
    "\n",
    "  # transparent background\n",
    "  fig.update_layout({\n",
    "    'plot_bgcolor': 'rgba(0, 0, 0, 0)', # change plot background color\n",
    "    'paper_bgcolor': 'rgba(0, 0, 0, 0)',  # change paper background color\n",
    "\n",
    "    'title_font_color': '#0B5345', # change the plot title color\n",
    "    })\n",
    "  \n",
    "  # return plot\n",
    "  return fig\n",
    "\n",
    "###########################\n",
    "##### 2nd plot Call Back\n",
    "@app.callback(\n",
    "    Output('graph2','figure'),\n",
    "    Input('Registration_Month','value')\n",
    ")\n",
    " \n",
    "def update_figures(month):\n",
    "  df_regestertion = df_users[(df_users['UserType']==\"Buyer\") & ( df_users['Registration_Month'] == month)]['CreatedDate'].dt.date.value_counts().sort_index()\n",
    "  \n",
    "  fig = px.line(df_regestertion, \n",
    "               x= df_regestertion.index, \n",
    "               y= df_regestertion.values, \n",
    "               color_discrete_sequence=px.colors.sequential.PuBuGn_r,\n",
    "               labels = {\"x\":\"Date\",\"y\":\"Count of registred user\"},)\n",
    "  fig.update_layout(title_text='Number of registred user')\n",
    "\n",
    "  \n",
    "  # transparent background\n",
    "  fig.update_layout({\n",
    "    'plot_bgcolor': 'rgba(0, 0, 0, 0)', # change plot background color\n",
    "    'paper_bgcolor': 'rgba(0, 0, 0, 0)',  # change paper background color\n",
    "\n",
    "    'title_font_color': '#0B5345', # change the plot title color\n",
    "    })\n",
    "  \n",
    "\n",
    "  # transparent background\n",
    "  fig.update_layout({\n",
    "    'plot_bgcolor': 'rgba(0, 0, 0, 0)', # change plot background color\n",
    "    'paper_bgcolor': 'rgba(0, 0, 0, 0)',  # change paper background color\n",
    "\n",
    "    'title_font_color': '#0B5345', # change the plot title color\n",
    "    })\n",
    "  \n",
    "  # return plot\n",
    "  return fig\n",
    "\n",
    "###########################\n",
    "############ 3rd plot Call back\n",
    "@app.callback(\n",
    "    Output('graph3','figure'),\n",
    "    Input('pred_cluster_DBSCAN','value')\n",
    ")\n",
    " \n",
    "def update_figures(pred_cluster_DBSCAN_chosen):\n",
    "  \n",
    "  dfDBSCAN=df_customer[(df_customer['pred_cluster_DBSCAN']==pred_cluster_DBSCAN_chosen)]\n",
    "\n",
    "  \n",
    "  fig = px.box(dfDBSCAN,\n",
    "               x=dfDBSCAN[\"Number_of_Orders\"],\n",
    "               y=dfDBSCAN[\"Total_Payment\"],\n",
    "               color_discrete_sequence=px.colors.sequential.PuBuGn_r,\n",
    "              \n",
    "              )\n",
    "  fig.update_layout(title_text='DBSCAN cluter')\n",
    "\n",
    "  \n",
    "  # transparent background\n",
    "  fig.update_layout({\n",
    "    'plot_bgcolor': 'rgba(0, 0, 0, 0)', # change plot background color\n",
    "    'paper_bgcolor': 'rgba(0, 0, 0, 0)',  # change paper background color\n",
    "\n",
    "    'title_font_color': '#0B5345', # change the plot title color\n",
    "    })\n",
    "  \n",
    "\n",
    "  # transparent background\n",
    "  fig.update_layout({\n",
    "    'plot_bgcolor': 'rgba(0, 0, 0, 0)', # change plot background color\n",
    "    'paper_bgcolor': 'rgba(0, 0, 0, 0)',  # change paper background color\n",
    "\n",
    "    'title_font_color': '#0B5345', # change the plot title color\n",
    "    })\n",
    "  \n",
    "  # return plot\n",
    "  return fig\n",
    "\n",
    "###########################\n",
    "###### 4 plot Call Back\n",
    "@app.callback(\n",
    "    Output('graph4','figure'),\n",
    "    Input('pred_cluster','value')\n",
    ")\n",
    " \n",
    "def update_figures(pred_cluster_chosen):\n",
    "  \n",
    "  dfKmean=df_customer[(df_customer['pred_cluster']==pred_cluster_chosen)]\n",
    "\n",
    "  \n",
    "  fig = px.scatter(dfKmean,\n",
    "               x=dfKmean[\"Number_of_Orders\"],\n",
    "               y=dfKmean[\"Total_Payment\"],\n",
    "               color_discrete_sequence=px.colors.sequential.PuBuGn_r,\n",
    "              \n",
    "              )\n",
    "  fig.update_layout(title_text='k-mean cluter')\n",
    "\n",
    "  \n",
    "  # transparent background\n",
    "  fig.update_layout({\n",
    "    'plot_bgcolor': 'rgba(0, 0, 0, 0)', # change plot background color\n",
    "    'paper_bgcolor': 'rgba(0, 0, 0, 0)',  # change paper background color\n",
    "\n",
    "    'title_font_color': '#0B5345', # change the plot title color\n",
    "    })\n",
    "  \n",
    "\n",
    "  # transparent background\n",
    "  fig.update_layout({\n",
    "    'plot_bgcolor': 'rgba(0, 0, 0, 0)', # change plot background color\n",
    "    'paper_bgcolor': 'rgba(0, 0, 0, 0)',  # change paper background color\n",
    "\n",
    "    'title_font_color': '#0B5345', # change the plot title color\n",
    "    })\n",
    "  \n",
    "  # return plot\n",
    "  return fig\n",
    "\n",
    "###########################\n",
    "###### 5 plot Call Back\n",
    "\n",
    "@app.callback(\n",
    "    Output('graph5','figure'),\n",
    "    Input('UserType','value')\n",
    ")\n",
    " \n",
    "def update_figures(UserTypeChosen):\n",
    "\n",
    "  dfUserType=df_users[(df_users['UserType']==UserTypeChosen)]\n",
    "  fig = px.bar(dfUserType,\n",
    "               x=dfUserType[\"AccountActive\"].value_counts().index,\n",
    "               y=dfUserType[\"AccountActive\"].value_counts().values,\n",
    "        #       hue='UserActive',\n",
    "               color_discrete_sequence=px.colors.sequential.PuBuGn_r,\n",
    "               labels = {\"x\":\"Account\",\"y\":\"Count of Account Active \"},)\n",
    "  fig.update_layout(title_text='Account Active')\n",
    "\n",
    "  \n",
    "  # transparent background\n",
    "  fig.update_layout({\n",
    "    'plot_bgcolor': 'rgba(0, 0, 0, 0)', # change plot background color\n",
    "    'paper_bgcolor': 'rgba(0, 0, 0, 0)',  # change paper background color\n",
    "\n",
    "    'title_font_color': '#000000', # change the plot title color\n",
    "    })\n",
    "  \n",
    "\n",
    "  # transparent background\n",
    "  fig.update_layout({\n",
    "    'plot_bgcolor': 'rgba(0, 0, 0, 0)', # change plot background color\n",
    "    'paper_bgcolor': 'rgba(0, 0, 0, 0)',  # change paper background color\n",
    "\n",
    "    'title_font_color': '#000000', # change the plot title color\n",
    "    })\n",
    "  \n",
    "  # return plot\n",
    "  return fig\n",
    "\n",
    "###########################\n",
    "# 6 plot Call Back\n",
    "@app.callback(\n",
    "    Output('graph6','figure'),\n",
    "    Input('orders_month','value')\n",
    ")\n",
    " \n",
    "def update_figures(month):\n",
    "  complate_orders_ = complate_orders[(complate_orders['month'] == month)].pivot_table(index='hour',columns='day',aggfunc='count')['Id']\n",
    "  complate_orders_ = complate_orders_.reindex(\n",
    "      index=range(24),\n",
    "      columns=range(1,max(complate_orders[complate_orders['month'] == month].day)),\n",
    "      fill_value=np.nan\n",
    "      )\n",
    "  \n",
    "  fig = go.Figure(data=go.Heatmap(\n",
    "                   z = complate_orders_.values,\n",
    "                   y = complate_orders_.index,\n",
    "                   x = complate_orders_.columns,\n",
    "                   xgap = 3 ,\n",
    "                   ygap = 3,\n",
    "                   colorscale =px.colors.sequential.Mint,\n",
    "                   hoverongaps = True))\n",
    "  fig.update_traces(\n",
    "    hovertemplate=\"<br>\".join([\n",
    "        \"Hour: %{y}\",\n",
    "        \"Day: %{x}\",\n",
    "        \"Number of completed orders: %{z}\",\n",
    "        ])\n",
    "    )\n",
    "  fig.update_layout(title_text='Number of completed orders')\n",
    "\n",
    "  \n",
    "  # transparent background\n",
    "  fig.update_layout({\n",
    "    'plot_bgcolor': 'rgba(0, 0, 0, 0)', # change plot background color\n",
    "    'paper_bgcolor': 'rgba(0, 0, 0, 0)',  # change paper background color\n",
    "\n",
    "    'title_font_color': '#0B5345', # change the plot title color\n",
    "    })\n",
    "  \n",
    "\n",
    "  # transparent background\n",
    "  fig.update_layout({\n",
    "    'plot_bgcolor': 'rgba(0, 0, 0, 0)', # change plot background color\n",
    "    'paper_bgcolor': 'rgba(0, 0, 0, 0)',  # change paper background color\n",
    "\n",
    "    'title_font_color': '#0B5345', # change the plot title color\n",
    "    })\n",
    "  \n",
    "  # return plot\n",
    "  return fig\n",
    "\n",
    "\n",
    "# Run the App Server\n",
    "app.run_server(mode=\"inline\")"
   ]
  },
  {
   "cell_type": "markdown",
   "metadata": {
    "id": "DDQRM5bccI1h"
   },
   "source": [
    "## **Insights**\n",
    "\n",
    "- We created Pie chart to Shows The most Payment methods based on Product category. Is shown when choose product category that you want see most payment method use for it.\n",
    "- Line chart shows Timeline for each months and see what that day have more New Registration in 2021. you should Select Month to see what the most day have more new Registration in the month.\n",
    "- The scatter graph shows the relationship between Number of Orders and Total Payment based on k-mean cluster, User Chose Cluster from k-mean to see the result based on the entry.\n",
    "- The box graph shows the relationship between Number of Orders and Total Payment based on DBSCAN cluster, User Chose Cluster from DBSCAN to see the result based on the entry.\n",
    "- The Last graph shows the Number of completed orders for each months, User Chose Month from 2021 to see the result based on the entry.\n",
    "- About bar chart is Show us the status of the account, whether it is active or inactive, is shown when selecting the user type If the user Driver or Buyer or Store.\n"
   ]
  },
  {
   "cell_type": "code",
   "execution_count": null,
   "metadata": {},
   "outputs": [],
   "source": []
  }
 ],
 "metadata": {
  "colab": {
   "collapsed_sections": [],
   "name": "dashboard.ipynb",
   "provenance": []
  },
  "kernelspec": {
   "display_name": "Python 3",
   "language": "python",
   "name": "python3"
  },
  "language_info": {
   "codemirror_mode": {
    "name": "ipython",
    "version": 3
   },
   "file_extension": ".py",
   "mimetype": "text/x-python",
   "name": "python",
   "nbconvert_exporter": "python",
   "pygments_lexer": "ipython3",
   "version": "3.7.5"
  }
 },
 "nbformat": 4,
 "nbformat_minor": 1
}
